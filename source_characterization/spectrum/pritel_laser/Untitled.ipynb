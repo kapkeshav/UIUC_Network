{
 "cells": [
  {
   "cell_type": "code",
   "execution_count": 1,
   "id": "26670988-891c-45de-9010-d75618cd3a79",
   "metadata": {},
   "outputs": [],
   "source": [
    "import numpy as np\n",
    "import matplotlib.pyplot as plt\n",
    "from scipy import optimize"
   ]
  },
  {
   "cell_type": "code",
   "execution_count": 3,
   "id": "26ecd565-155e-4ee7-81f9-9fddee294d12",
   "metadata": {},
   "outputs": [],
   "source": [
    "data = np.fromfile('PTL_160_.DAT')"
   ]
  },
  {
   "cell_type": "code",
   "execution_count": 4,
   "id": "c6e2bf7c-5daa-4b90-9c4c-e505beacc725",
   "metadata": {},
   "outputs": [
    {
     "data": {
      "text/plain": [
       "array([5.96732487e-320, 0.00000000e+000, 0.00000000e+000, ...,\n",
       "       2.24173048e-291, 1.39292493e+235, 1.93930983e+040])"
      ]
     },
     "execution_count": 4,
     "metadata": {},
     "output_type": "execute_result"
    }
   ],
   "source": [
    "data"
   ]
  },
  {
   "cell_type": "code",
   "execution_count": 5,
   "id": "eabf921f-47a4-49b5-92aa-3b4b8510c7e0",
   "metadata": {},
   "outputs": [
    {
     "data": {
      "text/plain": [
       "[<matplotlib.lines.Line2D at 0x7fe616862210>]"
      ]
     },
     "execution_count": 5,
     "metadata": {},
     "output_type": "execute_result"
    },
    {
     "data": {
      "image/png": "[encoded data removed]",
      "text/plain": [
       "<Figure size 432x288 with 1 Axes>"
      ]
     },
     "metadata": {
      "needs_background": "light"
     },
     "output_type": "display_data"
    }
   ],
   "source": [
    "plt.plot(data)"
   ]
  },
  {
   "cell_type": "code",
   "execution_count": null,
   "id": "de4809b7-4cca-4dee-98a7-c783ce7b2d82",
   "metadata": {},
   "outputs": [],
   "source": []
  }
 ],
 "metadata": {
  "kernelspec": {
   "display_name": "Python 3 (ipykernel)",
   "language": "python",
   "name": "python3"
  },
  "language_info": {
   "codemirror_mode": {
    "name": "ipython",
    "version": 3
   },
   "file_extension": ".py",
   "mimetype": "text/x-python",
   "name": "python",
   "nbconvert_exporter": "python",
   "pygments_lexer": "ipython3",
   "version": "3.7.11"
  }
 },
 "nbformat": 4,
 "nbformat_minor": 5
}
